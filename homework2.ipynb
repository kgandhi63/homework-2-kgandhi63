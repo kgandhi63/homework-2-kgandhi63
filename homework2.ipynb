{
 "cells": [
  {
   "cell_type": "markdown",
   "metadata": {},
   "source": [
    "# PHYS 3266: Homework 2, Kush Gandhi"
   ]
  },
  {
   "cell_type": "markdown",
   "metadata": {},
   "source": [
    "## Problem 1\n",
    " "
   ]
  },
  {
   "cell_type": "markdown",
   "metadata": {},
   "source": [
    "### Part (a)"
   ]
  },
  {
   "cell_type": "code",
   "execution_count": 42,
   "metadata": {
    "collapsed": false,
    "jupyter": {
     "outputs_hidden": false
    }
   },
   "outputs": [
    {
     "name": "stdout",
     "output_type": "stream",
     "text": [
      "The altitude of the satellite is 195036272.91 meters.\n"
     ]
    }
   ],
   "source": [
    "#Import nessecary Modules\n",
    "import math\n",
    "\n",
    "def calculate_altitude(time: float) -> float:\n",
    "\n",
    "    #Enter the time with a try except clause\n",
    "    try:\n",
    "        T = time\n",
    "    except:\n",
    "        T = 0\n",
    "\n",
    "    G = 6.67e-11  # Gravitational constant \n",
    "    M = 5.97e24   # Mass of the Earth \n",
    "    R = 6371e3    # Radius of the Earth\n",
    "\n",
    "    # Calculate altitude using the given formula\n",
    "    h = ((G * M * T**2) / (4 * math.pi**2))**(1/3) - R\n",
    "    return h\n",
    "\n",
    "#Running the \n",
    "Value = calculate_altitude(float(input(\"Enter the orbital period (T) in seconds: \")))\n",
    "print(f\"The altitude of the satellite is {Value:.2f} meters.\")\n",
    "\n",
    "\n"
   ]
  },
  {
   "cell_type": "markdown",
   "metadata": {},
   "source": [
    "### Part (b)"
   ]
  },
  {
   "cell_type": "code",
   "execution_count": 23,
   "metadata": {
    "collapsed": false,
    "jupyter": {
     "outputs_hidden": false
    }
   },
   "outputs": [
    {
     "name": "stdout",
     "output_type": "stream",
     "text": [
      "The altitude of the Once a day (geosynchronous orbit) satellite is 35855910.18 meters.\n",
      "The altitude of the Once every 90 minutes satellite is 279321.63 meters.\n",
      "The altitude of the Once every 45 minutes satellite is -2181559.90 meters.\n"
     ]
    }
   ],
   "source": [
    "periods = {\n",
    "        \"Once a day (geosynchronous orbit)\": 24 * 60 * 60,  # 24 hours\n",
    "        \"Once every 90 minutes\": 90 * 60,                   # 90 minutes\n",
    "        \"Once every 45 minutes\": 45 * 60                    # 45 minutes\n",
    "    }\n",
    "\n",
    "for description, T in periods.items():\n",
    "       print(f\"The altitude of the {description} satellite is {calculate_altitude(T):.2f} meters.\") \n",
    "        \n"
   ]
  },
  {
   "cell_type": "markdown",
   "metadata": {},
   "source": [
    "We can conclude from the calculations done in part b that a period of 45 minutes is simply not possible. This would enact the satellite to travel at a radius smaller than the radius of the earth. Hence, this is why we get a negative number. 90 minutes and 24 hours are both valid times to complete an orbit around earth. Based on online information, the smallest possible orbit takes about 90 minutes, which seems not too far off from our answer (considering the radius of the earth)."
   ]
  },
  {
   "cell_type": "markdown",
   "metadata": {},
   "source": [
    "### Part (c)\n"
   ]
  },
  {
   "cell_type": "code",
   "execution_count": 24,
   "metadata": {},
   "outputs": [
    {
     "name": "stdout",
     "output_type": "stream",
     "text": [
      "\n",
      "Difference between sidereal and solar day altitudes:\n",
      "Altitude for sidereal day: 35773762.33 meters\n",
      "Altitude for solar day: 35855910.18 meters\n",
      "Difference in altitude: 82147.85 meters\n"
     ]
    }
   ],
   "source": [
    "sidereal = 23.93 * 60 * 60  # Sidereal day \n",
    "solar = 24 * 60 * 60        # Solar day \n",
    "\n",
    "# Calculate altitudes for sidereal and solar days\n",
    "altitude_sidereal = calculate_altitude(sidereal)\n",
    "altitude_solar = calculate_altitude(solar)\n",
    "\n",
    "# Calculate difference in altitude\n",
    "difference = altitude_solar - altitude_sidereal\n",
    "\n",
    "print(\"\\nDifference between sidereal and solar day altitudes:\")\n",
    "print(f\"Altitude for sidereal day: {altitude_sidereal:.2f} meters\")\n",
    "print(f\"Altitude for solar day: {altitude_solar:.2f} meters\")\n",
    "print(f\"Difference in altitude: {difference:.2f} meters\")"
   ]
  },
  {
   "cell_type": "markdown",
   "metadata": {},
   "source": [
    "A sidereal day is the time it takes for Earth to complete one full rotation. This is slightly shorter than a solar day, which is the time it takes for the Sun to return to the same position in the sky. The difference arises because the Earth is orbiting the Sun while it rotates. After completing one sidereal rotation, the Earth must rotate a bit more (about 4 minutes' worth) to align with the Sun again.\n",
    "\n",
    "A geosynchronous satellite matches the Earth's rotation period, which means it must orbit the Earth once per sidereal day (23.93 hours). This ensures the satellite stays fixed above a specific longitude on Earth's surface. Without this readjustment, our satellites would be inaccurate by this relatively minute factor which has large complications in global systems and networking. \n",
    "\n",
    "As we see this constitutes a radial distance that is 82000 meters lower than a typical 24 hour period. \n"
   ]
  },
  {
   "cell_type": "markdown",
   "metadata": {},
   "source": [
    "## Problem 2\n",
    "\n"
   ]
  },
  {
   "cell_type": "markdown",
   "metadata": {},
   "source": [
    "### Part (a) and (b)"
   ]
  },
  {
   "cell_type": "code",
   "execution_count": 41,
   "metadata": {
    "collapsed": false,
    "jupyter": {
     "outputs_hidden": false
    }
   },
   "outputs": [
    {
     "name": "stdout",
     "output_type": "stream",
     "text": [
      "Part (a):\n",
      "Time in Earth's rest frame: 6.25 years\n",
      "Time as perceived by a passenger: 3.75 years\n",
      "\n",
      "Part (b):\n",
      "Time in Earth's rest frame: 10.10 years\n",
      "Time as perceived by a passenger: 1.42 years\n"
     ]
    }
   ],
   "source": [
    "#Importing for redudancy \n",
    "import math\n",
    "\n",
    "def calculate_travel_times(x: float = None, v: float = None)-> None:\n",
    "\n",
    "\n",
    "    # Get User Inputs\n",
    "    if x is None:\n",
    "        x = float(input(\"Enter the distance to the destination in light-years: \"))\n",
    "    if v is None:\n",
    "        v = float(input(\"Enter the speed as a fraction of the speed of light: \"))\n",
    "\n",
    "    #Ensure v is an allowed value\n",
    "    if v <= 0 or v >= 1:\n",
    "        print(\"Error: Speed must be a positive fraction less than 1.\")\n",
    "        return\n",
    "\n",
    "    # Calculate time in the rest frame\n",
    "    delta_t = x / v\n",
    "\n",
    "    # Calculate time in the spaceship's frame (Delta t')\n",
    "    # We ignore c as we are working velocity in units of c\n",
    "    delta_t_prime = delta_t * math.sqrt(1 - v**2)\n",
    "\n",
    "    print(f\"Time in Earth's rest frame: {delta_t:.2f} years\")\n",
    "    print(f\"Time as perceived by a passenger: {delta_t_prime:.2f} years\")\n",
    "\n",
    "print(\"Part (a):\")\n",
    "# Prompting Any Test\n",
    "calculate_travel_times()\n",
    "print()\n",
    "print(\"Part (b):\")\n",
    "#Prompting Specific Test (10 light years, .99c)\n",
    "calculate_travel_times(10,.99)\n"
   ]
  },
  {
   "cell_type": "markdown",
   "metadata": {},
   "source": [
    "## Problem 3"
   ]
  },
  {
   "cell_type": "code",
   "execution_count": 45,
   "metadata": {},
   "outputs": [
    {
     "name": "stdout",
     "output_type": "stream",
     "text": [
      "Binding energy (B): 125.27 MeV\n",
      "Binding energy per nucleon (B/A): 7.83 MeV\n",
      "\n",
      "Binding energy (B): 493.94 MeV\n",
      "Binding energy per nucleon (B/A): 8.52 MeV\n"
     ]
    }
   ],
   "source": [
    "#Importing for redudancy\n",
    "import math\n",
    "\n",
    "def calculate_binding_energy(A: float = None, Z: int = None):\n",
    "\n",
    "    # Constants(MeV)\n",
    "    a1 = 15.67\n",
    "    a2 = 17.23\n",
    "    a3 = 0.75\n",
    "    a4 = 93.2\n",
    "\n",
    "    # Get User Input\n",
    "    if A is None:\n",
    "        A = int(input(\"Enter the mass number (A): \"))\n",
    "    if Z is None:\n",
    "        Z = int(input(\"Enter the atomic number (Z): \"))\n",
    "\n",
    "    # Determine a5 based on A and Z values\n",
    "    if A % 2 != 0:\n",
    "        a5 = 0.0\n",
    "    elif A % 2 == 0 and Z % 2 == 0:\n",
    "        a5 = 12.0\n",
    "    else:\n",
    "        a5 = -12.0\n",
    "\n",
    "    # Calculate binding energy B\n",
    "    B = (a1 * A - a2 * A**(2/3)- a3 * (Z**2) / A**(1/3)  - a4 * ((A - 2 * Z)**2) / A + a5 * A**(-1/2))\n",
    "\n",
    "    print(f\"Binding energy (B): {B:.2f} MeV\")\n",
    "    print(f\"Binding energy per nucleon (B/A): {B/A:.2f} MeV\")\n",
    "\n",
    "\n",
    "# For Any Test\n",
    "calculate_binding_energy()\n",
    "print()\n",
    "# For specific values (A = 58, Z = 28)\n",
    "calculate_binding_energy(58,28)\n"
   ]
  }
 ],
 "metadata": {
  "kernelspec": {
   "display_name": "Python 3",
   "language": "python",
   "name": "python3"
  },
  "language_info": {
   "codemirror_mode": {
    "name": "ipython",
    "version": 3
   },
   "file_extension": ".py",
   "mimetype": "text/x-python",
   "name": "python",
   "nbconvert_exporter": "python",
   "pygments_lexer": "ipython3",
   "version": "3.11.5"
  }
 },
 "nbformat": 4,
 "nbformat_minor": 4
}
